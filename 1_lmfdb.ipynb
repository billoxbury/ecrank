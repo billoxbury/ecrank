{
 "cells": [
  {
   "cell_type": "markdown",
   "id": "b7414baa",
   "metadata": {},
   "source": [
    "## Playing with elliptic curves from LMFDB"
   ]
  },
  {
   "cell_type": "markdown",
   "id": "6aa04ab6",
   "metadata": {},
   "source": [
    "Read in data files (= output from LMFDB https://www.lmfdb.org/) and check what's been added to the environment:"
   ]
  },
  {
   "cell_type": "code",
   "execution_count": 1,
   "id": "6f1a88b4",
   "metadata": {},
   "outputs": [
    {
     "name": "stdout",
     "output_type": "stream",
     "text": [
      "data\t datafile\t labels\t make_data\t \n"
     ]
    }
   ],
   "source": [
    "datafile = \"./data/ec_rk0_cond1000-10000.sage\"\n",
    "\n",
    "load(datafile)\n",
    "%who"
   ]
  },
  {
   "cell_type": "markdown",
   "id": "d82a9656",
   "metadata": {},
   "source": [
    "Eyeball the top of the data sets:"
   ]
  },
  {
   "cell_type": "code",
   "execution_count": 2,
   "id": "8a44472b",
   "metadata": {},
   "outputs": [
    {
     "name": "stdout",
     "output_type": "stream",
     "text": [
      "['1001.b1',\n",
      " '1001.b2',\n",
      " '1001.b3',\n",
      " '1001.b4',\n",
      " '1002.a1',\n",
      " '1002.a2',\n",
      " '1002.b1',\n",
      " '1003.a1',\n",
      " '1003.c1',\n",
      " '1005.b1']\n",
      "[[1, -1, 1, -9916, -377564],\n",
      " [1, -1, 1, -1006, 2552],\n",
      " [1, -1, 1, -621, -5764],\n",
      " [1, -1, 1, -16, -198],\n",
      " [1, 1, 0, -860, -10074],\n",
      " [1, 1, 0, -50, -192],\n",
      " [1, 1, 0, 564, 1872],\n",
      " [1, -1, 1, 63, -332],\n",
      " [1, 0, 1, -8, -11],\n",
      " [1, 1, 0, -297, -1944]]\n"
     ]
    }
   ],
   "source": [
    "from pprint import pprint\n",
    "\n",
    "pprint(labels[:10])\n",
    "pprint(data[:10])"
   ]
  },
  {
   "cell_type": "markdown",
   "id": "c17f6695",
   "metadata": {},
   "source": [
    "The vectors are the EC coefficients, as we see from applying the function make_data():"
   ]
  },
  {
   "cell_type": "code",
   "execution_count": 3,
   "id": "88e089a8",
   "metadata": {},
   "outputs": [
    {
     "name": "stdout",
     "output_type": "stream",
     "text": [
      "[Elliptic Curve defined by y^2 + x*y + y = x^3 - x^2 - 9916*x - 377564 over Rational Field,\n",
      " Elliptic Curve defined by y^2 + x*y + y = x^3 - x^2 - 1006*x + 2552 over Rational Field,\n",
      " Elliptic Curve defined by y^2 + x*y + y = x^3 - x^2 - 621*x - 5764 over Rational Field,\n",
      " Elliptic Curve defined by y^2 + x*y + y = x^3 - x^2 - 16*x - 198 over Rational Field,\n",
      " Elliptic Curve defined by y^2 + x*y = x^3 + x^2 - 860*x - 10074 over Rational Field,\n",
      " Elliptic Curve defined by y^2 + x*y = x^3 + x^2 - 50*x - 192 over Rational Field,\n",
      " Elliptic Curve defined by y^2 + x*y = x^3 + x^2 + 564*x + 1872 over Rational Field,\n",
      " Elliptic Curve defined by y^2 + x*y + y = x^3 - x^2 + 63*x - 332 over Rational Field,\n",
      " Elliptic Curve defined by y^2 + x*y + y = x^3 - 8*x - 11 over Rational Field,\n",
      " Elliptic Curve defined by y^2 + x*y = x^3 + x^2 - 297*x - 1944 over Rational Field]\n",
      "<class 'sage.schemes.elliptic_curves.ell_rational_field.EllipticCurve_rational_field_with_category'>\n"
     ]
    }
   ],
   "source": [
    "ecdat = make_data()\n",
    "\n",
    "pprint(ecdat[:10])\n",
    "print( type(ecdat[0]) )"
   ]
  },
  {
   "cell_type": "markdown",
   "id": "c3de957c",
   "metadata": {},
   "source": [
    "So ecdat[] is a list of elliptic curve objects. For example:"
   ]
  },
  {
   "cell_type": "code",
   "execution_count": 28,
   "id": "68150d02",
   "metadata": {},
   "outputs": [
    {
     "name": "stdout",
     "output_type": "stream",
     "text": [
      "9963c1\n",
      "-x^3 + y^2*z + 126*x*z^2 + y*z^2 - 545*z^3\n",
      "2\n",
      "[(-11 : 24 : 1), (1 : 20 : 1)]\n"
     ]
    }
   ],
   "source": [
    "E = sample(ecdat, 1)[0]\n",
    "# or\n",
    "E = EllipticCurve('9963.c1')\n",
    "\n",
    "print(E.cremona_label())\n",
    "print(E.defining_polynomial())\n",
    "print(E.rank())\n",
    "print(E.gens())"
   ]
  },
  {
   "cell_type": "code",
   "execution_count": 51,
   "id": "c55fd2ae",
   "metadata": {},
   "outputs": [
    {
     "data": {
      "image/png": "[encoded data removed]",
      "text/plain": [
       "Graphics object consisting of 1 graphics primitive"
      ]
     },
     "execution_count": 51,
     "metadata": {},
     "output_type": "execute_result"
    }
   ],
   "source": [
    "x,y = var('x,y')\n",
    "\n",
    "contour_plot(- y^2 - x*y - y + x^3 - x^2 - 59*x + 8,\n",
    "             (x,-20,20), (y,-20,20),\n",
    "             fill=False,\n",
    "             contours=(0.0,),\n",
    "             plot_points = 150)"
   ]
  },
  {
   "cell_type": "markdown",
   "id": "a52ed439",
   "metadata": {},
   "source": [
    "We can now apply all the built-in sage functions for elliptic curves:"
   ]
  },
  {
   "cell_type": "code",
   "execution_count": 26,
   "id": "57175ddf",
   "metadata": {
    "scrolled": true
   },
   "outputs": [
    {
     "name": "stdout",
     "output_type": "stream",
     "text": [
      "Elliptic Curve defined by y^2 + x*y = x^3 + x^2 - 6*x + 5 over Rational Field\n",
      "Conductor 7501\n",
      "p = 3: nr points = 2\n",
      "p = 5: nr points = 8\n",
      "p = 7: nr points = 4\n",
      "p = 11: nr points = 9\n",
      "p = 13: nr points = 13\n",
      "p = 17: nr points = 11\n",
      "p = 19: nr points = 25\n",
      "p = 23: nr points = 28\n",
      "p = 29: nr points = 20\n",
      "p = 31: nr points = 29\n"
     ]
    }
   ],
   "source": [
    "E = ecdat[0][1]\n",
    "\n",
    "print(E)\n",
    "print(f'Conductor {E.conductor()}')\n",
    "\n",
    "p = Primes().unrank(1) # n-th prime number\n",
    "for _ in range(10):\n",
    "    print(f'p = {p}: nr points = {E.Np(p)}')\n",
    "    p = next_prime(p)"
   ]
  },
  {
   "cell_type": "markdown",
   "id": "3cfbd33a",
   "metadata": {},
   "source": [
    "Let's try reproducing the 'murmuration' plots in https://arxiv.org/abs/2204.10140"
   ]
  },
  {
   "cell_type": "code",
   "execution_count": 2,
   "id": "5fa55746",
   "metadata": {},
   "outputs": [],
   "source": [
    "datafile0 = \"./data/ec_rk0_cond7500-10000.sage\"\n",
    "datafile1 = \"./data/ec_rk1_cond7500-10000.sage\"\n",
    "datafile2 = \"./data/ec_rk2_cond7500-10000.sage\"\n",
    "\n",
    "r = 0\n",
    "ecdat = []\n",
    "\n",
    "for df in [datafile0, datafile1, datafile2]:\n",
    "    data = []\n",
    "    load(df)\n",
    "    tmp = make_data()\n",
    "    ecdat += [[r,E] for E in tmp]\n",
    "    r += 1"
   ]
  },
  {
   "cell_type": "code",
   "execution_count": 11,
   "id": "46a70db0",
   "metadata": {},
   "outputs": [
    {
     "name": "stdout",
     "output_type": "stream",
     "text": [
      "Running time 251.66415691375732\n"
     ]
    }
   ],
   "source": [
    "import time\n",
    "\n",
    "def a(E,p):\n",
    "    return p+1-E.Np(p)\n",
    "\n",
    "def f(r,n):\n",
    "    p = Primes().unrank(n)\n",
    "    arr = [a(e[1],p) for e in ecdat if e[0] == r]\n",
    "    return round( sum(arr)/len(arr), 12 )\n",
    "\n",
    "\n",
    "size = 1000\n",
    "rg = range(1,size + 1)\n",
    "\n",
    "start = time.time()\n",
    "murmur0 = [f(0,n) for n in rg]\n",
    "murmur1 = [f(1,n) for n in rg]\n",
    "murmur2 = [f(2,n) for n in rg]\n",
    "end = time.time()\n",
    "\n",
    "print(f'Running time {end - start}')"
   ]
  },
  {
   "cell_type": "code",
   "execution_count": 13,
   "id": "b2f70779",
   "metadata": {},
   "outputs": [
    {
     "data": {
      "image/png": "[encoded data removed]",
      "text/plain": [
       "<Figure size 432x288 with 1 Axes>"
      ]
     },
     "metadata": {
      "needs_background": "light"
     },
     "output_type": "display_data"
    }
   ],
   "source": [
    "from matplotlib import pyplot as plt\n",
    "\n",
    "plt.scatter(rg, murmur0, s = 0.8, c = 'blue')\n",
    "plt.scatter(rg, murmur1, s = 0.8, c = 'red')\n",
    "#plt.scatter(rg, murmur2, s = 0.8, c = 'green')\n",
    "plt.show()"
   ]
  },
  {
   "cell_type": "code",
   "execution_count": null,
   "id": "f2eb71e0",
   "metadata": {},
   "outputs": [],
   "source": []
  },
  {
   "cell_type": "code",
   "execution_count": null,
   "id": "ef4f7126",
   "metadata": {},
   "outputs": [],
   "source": []
  }
 ],
 "metadata": {
  "kernelspec": {
   "display_name": "SageMath 9.6",
   "language": "sage",
   "name": "sagemath-9.6"
  },
  "language_info": {
   "codemirror_mode": {
    "name": "ipython",
    "version": 3
   },
   "file_extension": ".py",
   "mimetype": "text/x-python",
   "name": "python",
   "nbconvert_exporter": "python",
   "pygments_lexer": "ipython3",
   "version": "3.10.3"
  }
 },
 "nbformat": 4,
 "nbformat_minor": 5
}
